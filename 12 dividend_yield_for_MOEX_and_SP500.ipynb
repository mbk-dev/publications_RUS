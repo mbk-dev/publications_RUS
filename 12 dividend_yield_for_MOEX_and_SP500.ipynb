{
 "cells": [
  {
   "cell_type": "markdown",
   "metadata": {
    "collapsed": false
   },
   "source": [
    "<a href=\"https://colab.research.google.com/github/mbk-dev/publications_RUS/blob/main/12%20dividend_yield_for_MOEX_and_SP500.ipynb\"><img align=\"left\" src=\"https://colab.research.google.com/assets/colab-badge.svg\" alt=\"Open in Colab\" title=\"Open and Execute in Google Colaboratory\"></a>"
   ]
  },
  {
   "cell_type": "markdown",
   "metadata": {
    "collapsed": false,
    "pycharm": {
     "name": "#%% md\n"
    }
   },
   "source": [
    "Статья [Дивидендная доходность Индекса МосБиржи и S&P500 за 10 лет](https://rostsber.ru/publish/stocks/dividend_yield_micex_2021.html) на блоге \"Рост Сбережений\"."
   ]
  },
  {
   "cell_type": "code",
   "execution_count": null,
   "metadata": {
    "collapsed": false,
    "pycharm": {
     "name": "#%%\n"
    }
   },
   "outputs": [],
   "source": [
    "!pip install okama"
   ]
  },
  {
   "cell_type": "code",
   "execution_count": 9,
   "metadata": {
    "collapsed": false,
    "pycharm": {
     "name": "#%%\n"
    }
   },
   "outputs": [],
   "source": [
    "import warnings\n",
    "\n",
    "warnings.filterwarnings(\"ignore\")\n",
    "\n",
    "import pandas as pd\n",
    "import numpy as np\n",
    "\n",
    "import matplotlib.pyplot as plt\n",
    "import matplotlib.dates as mdates\n",
    "plt.rcParams[\"figure.figsize\"] = (12, 6)\n",
    "\n",
    "import okama as ok"
   ]
  },
  {
   "cell_type": "markdown",
   "metadata": {
    "collapsed": false
   },
   "source": [
    "### Дивидендная доходность индекса"
   ]
  },
  {
   "cell_type": "markdown",
   "metadata": {
    "collapsed": false,
    "pycharm": {
     "name": "#%% md\n"
    }
   },
   "source": [
    "$TR_n$ - полная доходность индекса в день n\n",
    "$I_n$ - ценовая доходность индекса в день n\n",
    "$ID_n$ - полученные дивиденды"
   ]
  },
  {
   "cell_type": "markdown",
   "metadata": {
    "collapsed": false
   },
   "source": [
    "$$ TR_n = \\frac{I_n + ID_n}{I_{n-1}} $$"
   ]
  },
  {
   "cell_type": "markdown",
   "metadata": {
    "collapsed": false
   },
   "source": [
    "Дивидендная доходность индекса это $ID_n / I_{n-1}$:\n",
    "$$ \\frac{ID_n}{I_{n-1}} = TR_n - (\\frac{I_n}{I_{n-1}} - 1)$$\n",
    "$I_n  / I_{n-1} - 1$ - ценовая доходность"
   ]
  },
  {
   "cell_type": "markdown",
   "metadata": {
    "collapsed": false
   },
   "source": [
    "# Функция рисования столбчатой диаграммы дивидендной доходности"
   ]
  },
  {
   "cell_type": "code",
   "execution_count": 2,
   "metadata": {
    "collapsed": false,
    "pycharm": {
     "name": "#%%\n"
    }
   },
   "outputs": [],
   "source": [
    "def plot_dividend_yield(first_year: str,\n",
    "                        last_year: str,\n",
    "                        title: str,\n",
    "                        df_price: pd.DataFrame,\n",
    "                        df_div: pd.DataFrame,\n",
    "                        infl: pd.Series):\n",
    "    bar_width = 300  # ширина столбца диаграммы\n",
    "    x_axis = df_price[str(first_year): str(last_year)].index.to_timestamp()\n",
    "\n",
    "    fig = plt.figure()\n",
    "    ax = fig.add_axes([0, 0, 1, 1])\n",
    "    # бары ценовой доходности\n",
    "    ax.bar(x_axis, df_price[first_year: last_year] * 100, width=bar_width, label='Ценовая доходность')\n",
    "    # бары дивидендной доходности\n",
    "    ax.bar(x_axis, df_div[first_year: last_year] * 100, width=bar_width, label='Дивидндная доходность')\n",
    "    # линия инфляции\n",
    "    ax.plot(x_axis, infl[str(first_year): str(last_year)].values, linestyle='dashed', color='black', label='Инфляция')\n",
    "    # ось Х в положении y=0\n",
    "    ax.axhline(y=0, linewidth=0.7, color='k', label='_nolegend_')\n",
    "\n",
    "    ax.margins(0.02)\n",
    "\n",
    "    # регулирования надписей оси Х\n",
    "    years = mdates.YearLocator()  # ежегодный формат\n",
    "    years_fmt = mdates.DateFormatter('%Y')\n",
    "    # назначение формата надписей\n",
    "    ax.xaxis.set_major_locator(years)\n",
    "    ax.xaxis.set_major_formatter(years_fmt)\n",
    "\n",
    "    # Титул графика и легенда\n",
    "    ax.legend()\n",
    "    ax.set_title(title)\n",
    "    ax.set_ylabel('Доходность, %')"
   ]
  },
  {
   "cell_type": "markdown",
   "metadata": {
    "collapsed": false
   },
   "source": [
    "# Дивидендная доходность индекса Мосбиржи"
   ]
  },
  {
   "cell_type": "code",
   "execution_count": 13,
   "metadata": {
    "collapsed": false,
    "pycharm": {
     "name": "#%%\n"
    }
   },
   "outputs": [
    {
     "data": {
      "text/plain": [
       "assets           [IMOEX.INDX, MCFTR.INDX]\n",
       "currency                              RUB\n",
       "first_date                        2000-01\n",
       "last_date                         2025-04\n",
       "period_length          25 years, 4 months\n",
       "inflation                        RUB.INFL\n",
       "dtype: object"
      ]
     },
     "execution_count": 13,
     "metadata": {},
     "output_type": "execute_result"
    }
   ],
   "source": [
    "ls = ['IMOEX.INDX', 'MCFTR.INDX']\n",
    "moex = ok.AssetList(ls, ccy='RUB', first_date='2000-01', inflation=True)\n",
    "moex"
   ]
  },
  {
   "cell_type": "code",
   "execution_count": 14,
   "metadata": {
    "collapsed": false,
    "pycharm": {
     "name": "#%%\n"
    }
   },
   "outputs": [],
   "source": [
    "df_price = moex.annual_return_ts.loc[:, 'IMOEX.INDX']  # ценовая доходность, приведенная к году"
   ]
  },
  {
   "cell_type": "code",
   "execution_count": 24,
   "metadata": {},
   "outputs": [
    {
     "data": {
      "text/plain": [
       "date\n",
       "2021    0.217772\n",
       "2022   -0.372608\n",
       "2023    0.538714\n",
       "2024    0.016280\n",
       "2025    0.020806\n",
       "Freq: Y-DEC, Name: MCFTR.INDX, dtype: float64"
      ]
     },
     "execution_count": 24,
     "metadata": {},
     "output_type": "execute_result"
    }
   ],
   "source": [
    "df_total = moex.annual_return_ts.loc[:, 'MCFTR.INDX']\n",
    "df_total.tail()"
   ]
  },
  {
   "cell_type": "code",
   "execution_count": 15,
   "metadata": {
    "collapsed": false,
    "pycharm": {
     "name": "#%%\n"
    }
   },
   "outputs": [],
   "source": [
    "df = moex.assets_ror"
   ]
  },
  {
   "cell_type": "code",
   "execution_count": 16,
   "metadata": {
    "collapsed": false,
    "pycharm": {
     "name": "#%%\n"
    }
   },
   "outputs": [
    {
     "data": {
      "application/vnd.microsoft.datawrangler.viewer.v0+json": {
       "columns": [
        {
         "name": "date",
         "rawType": "period[M]",
         "type": "unknown"
        },
        {
         "name": "IMOEX.INDX",
         "rawType": "float64",
         "type": "float"
        },
        {
         "name": "MCFTR.INDX",
         "rawType": "float64",
         "type": "float"
        },
        {
         "name": "div",
         "rawType": "float64",
         "type": "float"
        }
       ],
       "conversionMethod": "pd.DataFrame",
       "ref": "795e668c-4679-43ac-a8b3-463c837c0aec",
       "rows": [
        [
         "2000-01",
         "0.2432",
         "0.2432",
         "0.0"
        ],
        [
         "2000-02",
         "0.0142",
         "0.0142",
         "0.0"
        ],
        [
         "2000-03",
         "0.33",
         "0.33",
         "0.0"
        ],
        [
         "2000-04",
         "-0.0465",
         "-0.0465",
         "0.0"
        ],
        [
         "2000-05",
         "-0.1062",
         "-0.1062",
         "0.0"
        ],
        [
         "2000-06",
         "-0.1019",
         "-0.1019",
         "0.0"
        ],
        [
         "2000-07",
         "0.0271",
         "0.0271",
         "0.0"
        ],
        [
         "2000-08",
         "0.1938",
         "0.1938",
         "0.0"
        ],
        [
         "2000-09",
         "-0.144",
         "-0.144",
         "0.0"
        ],
        [
         "2000-10",
         "-0.0606",
         "-0.0606",
         "0.0"
        ],
        [
         "2000-11",
         "-0.2205",
         "-0.2205",
         "0.0"
        ],
        [
         "2000-12",
         "-0.0364",
         "-0.0364",
         "0.0"
        ],
        [
         "2001-01",
         "0.1617",
         "0.1617",
         "0.0"
        ],
        [
         "2001-02",
         "-0.0575",
         "-0.0575",
         "0.0"
        ],
        [
         "2001-03",
         "0.0542",
         "0.0542",
         "0.0"
        ],
        [
         "2001-04",
         "0.0697",
         "0.0697",
         "0.0"
        ],
        [
         "2001-05",
         "0.165",
         "0.165",
         "0.0"
        ],
        [
         "2001-06",
         "0.0563",
         "0.0563",
         "0.0"
        ],
        [
         "2001-07",
         "-0.0855",
         "-0.0855",
         "0.0"
        ],
        [
         "2001-08",
         "-0.0345",
         "-0.0345",
         "0.0"
        ],
        [
         "2001-09",
         "-0.1362",
         "-0.1362",
         "0.0"
        ],
        [
         "2001-10",
         "0.12",
         "0.12",
         "0.0"
        ],
        [
         "2001-11",
         "0.1383",
         "0.1383",
         "0.0"
        ],
        [
         "2001-12",
         "0.114",
         "0.114",
         "0.0"
        ],
        [
         "2002-01",
         "0.0974",
         "0.0974",
         "0.0"
        ],
        [
         "2002-02",
         "0.0072",
         "0.0072",
         "0.0"
        ],
        [
         "2002-03",
         "0.1535",
         "0.1535",
         "0.0"
        ],
        [
         "2002-04",
         "0.1333",
         "0.1333",
         "0.0"
        ],
        [
         "2002-05",
         "-0.0283",
         "-0.0283",
         "0.0"
        ],
        [
         "2002-06",
         "-0.0882",
         "-0.0882",
         "0.0"
        ],
        [
         "2002-07",
         "-0.0735",
         "-0.0735",
         "0.0"
        ],
        [
         "2002-08",
         "0.037",
         "0.037",
         "0.0"
        ],
        [
         "2002-09",
         "-0.0078",
         "-0.0078",
         "0.0"
        ],
        [
         "2002-10",
         "0.074",
         "0.074",
         "0.0"
        ],
        [
         "2002-11",
         "0.0321",
         "0.0321",
         "0.0"
        ],
        [
         "2002-12",
         "-0.0078",
         "-0.0078",
         "0.0"
        ],
        [
         "2003-01",
         "-0.0349",
         "-0.0349",
         "0.0"
        ],
        [
         "2003-02",
         "0.1096",
         "0.1096",
         "0.0"
        ],
        [
         "2003-03",
         "-0.0467",
         "-0.0467",
         "0.0"
        ],
        [
         "2003-04",
         "0.1358",
         "0.1358",
         "0.0"
        ],
        [
         "2003-05",
         "0.1388",
         "0.1388",
         "0.0"
        ],
        [
         "2003-06",
         "0.0816",
         "0.0816",
         "0.0"
        ],
        [
         "2003-07",
         "-0.0552",
         "-0.0552",
         "0.0"
        ],
        [
         "2003-08",
         "0.1248",
         "0.1248",
         "0.0"
        ],
        [
         "2003-09",
         "0.0644",
         "0.0644",
         "0.0"
        ],
        [
         "2003-10",
         "-0.0899",
         "-0.0899",
         "0.0"
        ],
        [
         "2003-11",
         "0.0339",
         "0.0339",
         "0.0"
        ],
        [
         "2003-12",
         "0.0618",
         "0.0618",
         "0.0"
        ],
        [
         "2004-01",
         "0.0719",
         "0.0719",
         "0.0"
        ],
        [
         "2004-02",
         "0.0714",
         "0.0714",
         "0.0"
        ]
       ],
       "shape": {
        "columns": 3,
        "rows": 304
       }
      },
      "text/html": [
       "<div>\n",
       "<style scoped>\n",
       "    .dataframe tbody tr th:only-of-type {\n",
       "        vertical-align: middle;\n",
       "    }\n",
       "\n",
       "    .dataframe tbody tr th {\n",
       "        vertical-align: top;\n",
       "    }\n",
       "\n",
       "    .dataframe thead th {\n",
       "        text-align: right;\n",
       "    }\n",
       "</style>\n",
       "<table border=\"1\" class=\"dataframe\">\n",
       "  <thead>\n",
       "    <tr style=\"text-align: right;\">\n",
       "      <th>Symbols</th>\n",
       "      <th>IMOEX.INDX</th>\n",
       "      <th>MCFTR.INDX</th>\n",
       "      <th>div</th>\n",
       "    </tr>\n",
       "    <tr>\n",
       "      <th>date</th>\n",
       "      <th></th>\n",
       "      <th></th>\n",
       "      <th></th>\n",
       "    </tr>\n",
       "  </thead>\n",
       "  <tbody>\n",
       "    <tr>\n",
       "      <th>2000-01</th>\n",
       "      <td>0.2432</td>\n",
       "      <td>0.2432</td>\n",
       "      <td>0.0000</td>\n",
       "    </tr>\n",
       "    <tr>\n",
       "      <th>2000-02</th>\n",
       "      <td>0.0142</td>\n",
       "      <td>0.0142</td>\n",
       "      <td>0.0000</td>\n",
       "    </tr>\n",
       "    <tr>\n",
       "      <th>2000-03</th>\n",
       "      <td>0.3300</td>\n",
       "      <td>0.3300</td>\n",
       "      <td>0.0000</td>\n",
       "    </tr>\n",
       "    <tr>\n",
       "      <th>2000-04</th>\n",
       "      <td>-0.0465</td>\n",
       "      <td>-0.0465</td>\n",
       "      <td>0.0000</td>\n",
       "    </tr>\n",
       "    <tr>\n",
       "      <th>2000-05</th>\n",
       "      <td>-0.1062</td>\n",
       "      <td>-0.1062</td>\n",
       "      <td>0.0000</td>\n",
       "    </tr>\n",
       "    <tr>\n",
       "      <th>...</th>\n",
       "      <td>...</td>\n",
       "      <td>...</td>\n",
       "      <td>...</td>\n",
       "    </tr>\n",
       "    <tr>\n",
       "      <th>2024-12</th>\n",
       "      <td>0.1183</td>\n",
       "      <td>0.1391</td>\n",
       "      <td>0.0208</td>\n",
       "    </tr>\n",
       "    <tr>\n",
       "      <th>2025-01</th>\n",
       "      <td>0.0226</td>\n",
       "      <td>0.0273</td>\n",
       "      <td>0.0047</td>\n",
       "    </tr>\n",
       "    <tr>\n",
       "      <th>2025-02</th>\n",
       "      <td>0.0856</td>\n",
       "      <td>0.0856</td>\n",
       "      <td>0.0000</td>\n",
       "    </tr>\n",
       "    <tr>\n",
       "      <th>2025-03</th>\n",
       "      <td>-0.0585</td>\n",
       "      <td>-0.0585</td>\n",
       "      <td>0.0000</td>\n",
       "    </tr>\n",
       "    <tr>\n",
       "      <th>2025-04</th>\n",
       "      <td>-0.0315</td>\n",
       "      <td>-0.0278</td>\n",
       "      <td>0.0037</td>\n",
       "    </tr>\n",
       "  </tbody>\n",
       "</table>\n",
       "<p>304 rows × 3 columns</p>\n",
       "</div>"
      ],
      "text/plain": [
       "Symbols  IMOEX.INDX  MCFTR.INDX     div\n",
       "date                                   \n",
       "2000-01      0.2432      0.2432  0.0000\n",
       "2000-02      0.0142      0.0142  0.0000\n",
       "2000-03      0.3300      0.3300  0.0000\n",
       "2000-04     -0.0465     -0.0465  0.0000\n",
       "2000-05     -0.1062     -0.1062  0.0000\n",
       "...             ...         ...     ...\n",
       "2024-12      0.1183      0.1391  0.0208\n",
       "2025-01      0.0226      0.0273  0.0047\n",
       "2025-02      0.0856      0.0856  0.0000\n",
       "2025-03     -0.0585     -0.0585  0.0000\n",
       "2025-04     -0.0315     -0.0278  0.0037\n",
       "\n",
       "[304 rows x 3 columns]"
      ]
     },
     "execution_count": 16,
     "metadata": {},
     "output_type": "execute_result"
    }
   ],
   "source": [
    "df['div'] = df['MCFTR.INDX'] - df['IMOEX.INDX']  # создаем еще один столбец с месячной дивидендной доходностью\n",
    "df"
   ]
  },
  {
   "cell_type": "code",
   "execution_count": 17,
   "metadata": {
    "collapsed": false,
    "pycharm": {
     "name": "#%%\n"
    }
   },
   "outputs": [],
   "source": [
    "df_div = df['div'].resample('A').apply(lambda x: np.prod(x + 1.) - 1)  # годовые значения дивидендной доходности"
   ]
  },
  {
   "cell_type": "code",
   "execution_count": 18,
   "metadata": {
    "collapsed": false,
    "pycharm": {
     "name": "#%%\n"
    }
   },
   "outputs": [
    {
     "data": {
      "text/plain": [
       "6.847159898853528"
      ]
     },
     "execution_count": 18,
     "metadata": {},
     "output_type": "execute_result"
    }
   ],
   "source": [
    "div_results = df_div['2015':'2024'] * 100\n",
    "div_results.mean()"
   ]
  },
  {
   "cell_type": "code",
   "execution_count": 19,
   "metadata": {
    "collapsed": false,
    "pycharm": {
     "name": "#%%\n"
    }
   },
   "outputs": [
    {
     "data": {
      "text/plain": [
       "10.51280544358374"
      ]
     },
     "execution_count": 19,
     "metadata": {},
     "output_type": "execute_result"
    }
   ],
   "source": [
    "price_results = df_price['2015':'2024'] * 100\n",
    "price_results.mean()"
   ]
  },
  {
   "cell_type": "code",
   "execution_count": 20,
   "metadata": {
    "collapsed": false,
    "pycharm": {
     "name": "#%%\n"
    }
   },
   "outputs": [
    {
     "data": {
      "text/plain": [
       "0.3944224405860602"
      ]
     },
     "execution_count": 20,
     "metadata": {},
     "output_type": "execute_result"
    }
   ],
   "source": [
    "div_results.mean() / (price_results.mean() + div_results.mean())  # Доля дивидендной доходности в полной доходности"
   ]
  },
  {
   "cell_type": "code",
   "execution_count": 21,
   "metadata": {
    "collapsed": false,
    "pycharm": {
     "name": "#%%\n"
    }
   },
   "outputs": [],
   "source": [
    "infl_RUB = ok.Inflation('RUB.INFL')"
   ]
  },
  {
   "cell_type": "code",
   "execution_count": 22,
   "metadata": {
    "collapsed": false,
    "pycharm": {
     "name": "#%%\n"
    }
   },
   "outputs": [
    {
     "data": {
      "text/plain": [
       "7.028021995146408"
      ]
     },
     "execution_count": 22,
     "metadata": {},
     "output_type": "execute_result"
    }
   ],
   "source": [
    "annual_infl = infl_RUB.annual_inflation_ts['2015':'2024'] * 100\n",
    "annual_infl.mean()"
   ]
  },
  {
   "cell_type": "code",
   "execution_count": 23,
   "metadata": {
    "collapsed": false,
    "pycharm": {
     "name": "#%%\n"
    }
   },
   "outputs": [
    {
     "data": {
      "image/png": "[encoded data removed]",
      "text/plain": [
       "<Figure size 1200x600 with 1 Axes>"
      ]
     },
     "metadata": {},
     "output_type": "display_data"
    }
   ],
   "source": [
    "plot_dividend_yield('2015', '2024', 'Дивидендная и ценовая доходности Индекса Мосбиржи (2015 - 2024)',df_price, df_div, annual_infl)"
   ]
  },
  {
   "cell_type": "markdown",
   "metadata": {
    "collapsed": false
   },
   "source": [
    "## Дивидендная доходность S&P 500"
   ]
  },
  {
   "cell_type": "code",
   "execution_count": null,
   "metadata": {
    "collapsed": false,
    "pycharm": {
     "name": "#%%\n"
    }
   },
   "outputs": [],
   "source": [
    "ls = ['GSPC.INDX', 'SP500TR.INDX']\n",
    "sp = ok.AssetList(ls, ccy='USD', first_date='2011-01', last_date='2021-12')"
   ]
  },
  {
   "cell_type": "code",
   "execution_count": null,
   "metadata": {
    "collapsed": false,
    "pycharm": {
     "name": "#%%\n"
    }
   },
   "outputs": [],
   "source": [
    "df_price_sp = sp.annual_return_ts.iloc[:, 0]"
   ]
  },
  {
   "cell_type": "code",
   "execution_count": null,
   "metadata": {
    "collapsed": false,
    "pycharm": {
     "name": "#%%\n"
    }
   },
   "outputs": [],
   "source": [
    "df_sp = sp.assets_ror"
   ]
  },
  {
   "cell_type": "code",
   "execution_count": null,
   "metadata": {
    "collapsed": false,
    "pycharm": {
     "name": "#%%\n"
    }
   },
   "outputs": [],
   "source": [
    "df_sp['div'] = df_sp.iloc[:, 1] - df_sp.iloc[:, 0]"
   ]
  },
  {
   "cell_type": "code",
   "execution_count": null,
   "metadata": {
    "collapsed": false,
    "pycharm": {
     "name": "#%%\n"
    }
   },
   "outputs": [],
   "source": [
    "df_div_sp = df_sp['div'].resample('A').apply(lambda x: np.prod(x + 1.) - 1)"
   ]
  },
  {
   "cell_type": "code",
   "execution_count": null,
   "metadata": {
    "collapsed": false,
    "pycharm": {
     "name": "#%%\n"
    }
   },
   "outputs": [],
   "source": [
    "div_results_sp = df_div_sp['2011':'2021']*100\n",
    "div_results_sp.mean()"
   ]
  },
  {
   "cell_type": "code",
   "execution_count": null,
   "metadata": {
    "collapsed": false,
    "pycharm": {
     "name": "#%%\n"
    }
   },
   "outputs": [],
   "source": [
    "price_results_sp = df_price_sp['2011':'2021'] * 100\n",
    "price_results_sp.mean()"
   ]
  },
  {
   "cell_type": "code",
   "execution_count": null,
   "metadata": {
    "collapsed": false,
    "pycharm": {
     "name": "#%%\n"
    }
   },
   "outputs": [],
   "source": [
    "infl_USD = ok.Inflation('USD.INFL').annual_inflation_ts['2010':'2021'] * 100\n",
    "infl_USD.mean()"
   ]
  },
  {
   "cell_type": "code",
   "execution_count": null,
   "metadata": {
    "collapsed": false,
    "pycharm": {
     "name": "#%%\n"
    }
   },
   "outputs": [],
   "source": [
    "div_results_sp.mean() / (price_results_sp.mean() + div_results_sp.mean())"
   ]
  },
  {
   "cell_type": "code",
   "execution_count": 33,
   "metadata": {
    "collapsed": false,
    "pycharm": {
     "name": "#%%\n"
    }
   },
   "outputs": [
    {
     "data": {
      "image/png": "[encoded data removed]",
      "text/plain": [
       "<Figure size 1200x600 with 1 Axes>"
      ]
     },
     "metadata": {},
     "output_type": "display_data"
    }
   ],
   "source": [
    "plot_dividend_yield('2011', '2021', 'Дивидендная и ценовая доходности индекса S&P500', df_price_sp, df_div_sp, infl_USD)\n"
   ]
  }
 ],
 "metadata": {
  "kernelspec": {
   "display_name": "py311",
   "language": "python",
   "name": "py311"
  },
  "language_info": {
   "codemirror_mode": {
    "name": "ipython",
    "version": 3
   },
   "file_extension": ".py",
   "mimetype": "text/x-python",
   "name": "python",
   "nbconvert_exporter": "python",
   "pygments_lexer": "ipython3",
   "version": "3.11.9"
  }
 },
 "nbformat": 4,
 "nbformat_minor": 4
}
